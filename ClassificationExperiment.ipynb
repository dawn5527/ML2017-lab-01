{
 "cells": [
  {
   "cell_type": "code",
   "execution_count": 130,
   "metadata": {},
   "outputs": [],
   "source": [
    "from sklearn.externals.joblib import Memory\n",
    "from sklearn.datasets import load_svmlight_file\n",
    "import numpy as np\n",
    "from sklearn.model_selection import train_test_split\n",
    "from sklearn import linear_model\n",
    "import matplotlib.pyplot as plt\n",
    "%matplotlib inline"
   ]
  },
  {
   "cell_type": "code",
   "execution_count": 131,
   "metadata": {},
   "outputs": [
    {
     "name": "stdout",
     "output_type": "stream",
     "text": [
      "690 14\n",
      "<class 'scipy.sparse.csr.csr_matrix'>\n"
     ]
    }
   ],
   "source": [
    "# 加载数据\n",
    "mem = Memory(\"./mycache\")\n",
    "@mem.cache\n",
    "def get_data():\n",
    "    data = load_svmlight_file(\"../data/australian_scale\")\n",
    "    return data[0],data[1]\n",
    "\n",
    "X,y = get_data()\n",
    "N,D = X.shape\n",
    "print(N,D)\n",
    "print(type(X))\n",
    "C = len(set(y))\n",
    "y = np.where(y>0,1,0).reshape(-1,1)\n",
    "# print(y)"
   ]
  },
  {
   "cell_type": "code",
   "execution_count": 132,
   "metadata": {},
   "outputs": [
    {
     "name": "stdout",
     "output_type": "stream",
     "text": [
      "[ 1.       -0.922406 -0.803571  0.       -0.230769 -0.25     -0.953333 -1.\n",
      "  1.       -0.970149 -1.        0.       -0.92     -0.99958 ]\n",
      "[0]\n"
     ]
    }
   ],
   "source": [
    "# 分割训练集和验证集\n",
    "X_train,X_val,y_train,y_val = train_test_split(X,y,test_size=0.4)\n",
    "X_train = X_train.toarray()\n",
    "X_val = X_val.toarray()\n",
    "y_train = y_train.reshape(-1,1)\n",
    "y_val = y_val.reshape(-1,1)\n",
    "print(X_train[0])\n",
    "print(y_train[0])"
   ]
  },
  {
   "cell_type": "code",
   "execution_count": 133,
   "metadata": {},
   "outputs": [],
   "source": [
    "def svm_loss(W, X, y, reg):\n",
    "  \n",
    "    loss = 0.0\n",
    "#     初始化梯度导数为０\n",
    "    dW = np.zeros(W.shape) \n",
    "\n",
    "    N = X.shape[0]\n",
    "    #scores = np.dot(X, W)\n",
    "    #margin = scores - scores[range(0, N), y].reshape(N, 1) + 1\n",
    "    #margin[range(0, N), y] = 0\n",
    "    #margin = margin * (margin > 0) # max(0, s_j - s_yi + delta)\n",
    "    #loss += np.sum(margin) / N + 0.5 * reg * np.sum(W * W)\n",
    "    scores = X.dot(W) # N x C\n",
    "    \n",
    "    margin = scores - scores[range(0,N), y.reshape(1,-1)].reshape(-1,1) + 1 # N x C\n",
    "    margin[range(N), y.reshape(1,-1)] = 0\n",
    "    margin = (margin > 0) * margin\n",
    "    loss += margin.sum() / N\n",
    "    loss += 0.5 * reg * np.sum(W * W)\n",
    "\n",
    "    counts = (margin > 0).astype(int)\n",
    "    counts[range(N), y] = - np.sum(counts, axis = 1)\n",
    "    dW += np.dot(X.T, counts) / N + reg * W\n",
    "\n",
    "    return loss, dW"
   ]
  },
  {
   "cell_type": "code",
   "execution_count": null,
   "metadata": {},
   "outputs": [],
   "source": []
  },
  {
   "cell_type": "code",
   "execution_count": 134,
   "metadata": {},
   "outputs": [],
   "source": [
    "def train(X_train,y_train=None,w=None,reg=None,lr=None):\n",
    "    N,D = X_train.shape\n",
    "    if w is None:\n",
    "        w = 0.001 * np.random.randn(D, C)\n",
    "    loss, dW = svm_loss(w,X_train,y_train,reg)\n",
    "    w += -lr * dW\n",
    "    return {'w':w,'loss':loss}"
   ]
  },
  {
   "cell_type": "code",
   "execution_count": 135,
   "metadata": {},
   "outputs": [],
   "source": [
    "def val(X_val,y_val,w,reg):\n",
    "    N,D = X_val.shape\n",
    "    loss, dW = svm_loss(w,X_train,y_train,reg)\n",
    "    return {'loss':loss}"
   ]
  },
  {
   "cell_type": "code",
   "execution_count": 136,
   "metadata": {},
   "outputs": [
    {
     "name": "stdout",
     "output_type": "stream",
     "text": [
      "****************************************************************************************************\n",
      "min train loss:0.9982836554931929,lr:0.001,reg:0.0001\n"
     ]
    }
   ],
   "source": [
    "# 正则参数和学习率\n",
    "reg_list = np.logspace(-4,1,num=6,base=10)\n",
    "#reg_list = [0]\n",
    "lr_list = np.logspace(-4,1,num=6,base=10)\n",
    "#lr_list = [1e-2]\n",
    "\n",
    "min_loss = 1000\n",
    "best_reg = None\n",
    "best_lr = None\n",
    "best_w = None\n",
    "best_train_loss_hist = None\n",
    "best_val_loss_hist = None\n",
    "# 尝试不同的正则参数和学习率\n",
    "for reg in reg_list:\n",
    "    for lr in lr_list:\n",
    "        train_loss_hist = []\n",
    "        val_loss_hist = []\n",
    "        w = None\n",
    "        \n",
    "        for i in range(50):\n",
    "            train_res = train(X_train,y_train,w=w,reg=reg,lr=lr)\n",
    "            w = train_res['w']\n",
    "            train_loss_hist.append(train_res['loss'])\n",
    "            \n",
    "            val_res = val(X_val,y_val,w,reg=reg)\n",
    "            val_loss_hist.append(val_res['loss'])\n",
    "\n",
    "        cur_loss = val_loss_hist[-1]\n",
    "#         print('-'*100)\n",
    "#         print('loss:{},lr:{},reg:{}'.format(cur_loss,lr,reg))\n",
    "        if cur_loss is not None and cur_loss < min_loss:\n",
    "            min_loss = cur_loss\n",
    "            best_lr = lr\n",
    "            best_reg = reg\n",
    "            best_w = w\n",
    "            best_train_loss_hist = train_loss_hist\n",
    "            best_val_loss_hist = val_loss_hist\n",
    "            \n",
    "print('*'*100)\n",
    "print('min train loss:{},lr:{},reg:{}'.format(min_loss,best_lr,best_reg))"
   ]
  },
  {
   "cell_type": "code",
   "execution_count": 137,
   "metadata": {},
   "outputs": [
    {
     "name": "stdout",
     "output_type": "stream",
     "text": [
      "best w:[[ 0.01843037  0.01857472]\n",
      " [-0.02247739 -0.02267466]\n",
      " [-0.0342483  -0.03291605]\n",
      " [-0.01269587 -0.01203555]\n",
      " [-0.00254217  0.00070499]\n",
      " [-0.0038142  -0.0024106 ]\n",
      " [-0.04254086 -0.04071006]\n",
      " [ 0.00340893  0.00498882]\n",
      " [-0.00396145 -0.00520171]\n",
      " [-0.04638145 -0.04680527]\n",
      " [-0.00558793 -0.00705837]\n",
      " [-0.00203918 -0.00347814]\n",
      " [-0.03989907 -0.04246105]\n",
      " [-0.0501927  -0.04907838]] \n",
      "best_lr:0.001 \n",
      "best_reg:0.0001\n",
      "avg_train_loss:0.998282956962299,avg_val_loss:0.9982829777110499\n"
     ]
    },
    {
     "data": {
      "text/plain": [
       "Text(0.5,1,'loss')"
      ]
     },
     "execution_count": 137,
     "metadata": {},
     "output_type": "execute_result"
    },
    {
     "data": {
      "image/png": "[encoded data removed]",
      "text/plain": [
       "<matplotlib.figure.Figure at 0x7fe5517a9cc0>"
      ]
     },
     "metadata": {},
     "output_type": "display_data"
    }
   ],
   "source": [
    "print('best w:{} \\nbest_lr:{} \\nbest_reg:{}'.format(best_w,best_lr,best_reg))\n",
    "print('avg_train_loss:{},avg_val_loss:{}'.format(np.mean(best_train_loss_hist),np.mean(best_val_loss_hist)))\n",
    "\n",
    "# plt.rcParams['figure.figsize'] = (10.0, 20.0)\n",
    "\n",
    "# plt.subplot(3,1,1)\n",
    "plt.plot(best_train_loss_hist[:])\n",
    "plt.plot(best_val_loss_hist[:])\n",
    "plt.xlabel('iteration')  \n",
    "plt.ylabel('loss')  \n",
    "plt.legend(['train','val'],loc='right')\n",
    "plt.title('loss')\n"
   ]
  },
  {
   "cell_type": "code",
   "execution_count": null,
   "metadata": {},
   "outputs": [],
   "source": []
  },
  {
   "cell_type": "code",
   "execution_count": null,
   "metadata": {},
   "outputs": [],
   "source": []
  }
 ],
 "metadata": {
  "kernelspec": {
   "display_name": "Python 3",
   "language": "python",
   "name": "python3"
  },
  "language_info": {
   "codemirror_mode": {
    "name": "ipython",
    "version": 3
   },
   "file_extension": ".py",
   "mimetype": "text/x-python",
   "name": "python",
   "nbconvert_exporter": "python",
   "pygments_lexer": "ipython3",
   "version": "3.6.3"
  }
 },
 "nbformat": 4,
 "nbformat_minor": 2
}
