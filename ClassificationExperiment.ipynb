{
 "cells": [
  {
   "cell_type": "code",
   "execution_count": 19,
   "metadata": {},
   "outputs": [],
   "source": [
    "from sklearn.externals.joblib import Memory\n",
    "from sklearn.datasets import load_svmlight_file\n",
    "import numpy as np\n",
    "from sklearn.model_selection import train_test_split\n",
    "from sklearn import linear_model\n",
    "import matplotlib.pyplot as plt\n",
    "import random\n",
    "%matplotlib inline"
   ]
  },
  {
   "cell_type": "code",
   "execution_count": 20,
   "metadata": {},
   "outputs": [],
   "source": [
    "# 加载数据\n",
    "mem = Memory(\"./mycache\")\n",
    "@mem.cache\n",
    "def get_data():\n",
    "    data = load_svmlight_file(\"./data/australian_scale\")\n",
    "    return data[0],data[1]\n",
    "\n",
    "X,y = get_data()\n",
    "# N,D = X.shape\n",
    "# print(N,D)\n",
    "# print(type(X))\n",
    "# C = len(set(y))\n",
    "# y = np.where(y>0,1,0).reshape(-1,1)\n",
    "# print(y)"
   ]
  },
  {
   "cell_type": "code",
   "execution_count": 21,
   "metadata": {},
   "outputs": [],
   "source": [
    "# 分割训练集和验证集\n",
    "X_train,X_val,y_train,y_val = train_test_split(X,y,test_size=0.4)\n",
    "X_train = X_train.toarray()\n",
    "X_val = X_val.toarray()\n",
    "y_train = y_train.reshape(-1,1)\n",
    "y_val = y_val.reshape(-1,1)\n",
    "# print(X_train[0])\n",
    "\n",
    "# print(X_train[0])\n",
    "# print(y_train[0])"
   ]
  },
  {
   "cell_type": "code",
   "execution_count": 22,
   "metadata": {},
   "outputs": [],
   "source": [
    "def hinge_loss(w,X,Y,C=1.0):\n",
    "    N,D   = np.shape(X)  \n",
    "    zero = np.zeros((N,1))\n",
    "    score = X.dot(w)\n",
    "    margin = 1 - C * Y * score\n",
    "    return np.max([zero,margin],axis=0)"
   ]
  },
  {
   "cell_type": "code",
   "execution_count": 23,
   "metadata": {},
   "outputs": [],
   "source": [
    "def forward(w,X,Y,reg=0.0,C=1.0):\n",
    "    N,D = np.shape(X)  \n",
    "    loss = hinge_loss(w,X,Y,C)\n",
    "    reg_loss = 1.0/2 * reg * w.transpose().dot(w)\n",
    "    loss = 1.0/N * loss.sum()  + reg_loss\n",
    "    return loss[0][0]"
   ]
  },
  {
   "cell_type": "code",
   "execution_count": 24,
   "metadata": {},
   "outputs": [],
   "source": [
    "def backward(w,X,Y,reg=0.0,C=1.0):\n",
    "    N,D = np.shape(X)  \n",
    "    loss = hinge_loss(w,X,Y,C)\n",
    "    counts = np.zeros((N,1))\n",
    "#     区分\n",
    "    counts[np.nonzero(loss)] = 1\n",
    "    dW = - 1.0/float(N) * C * X.transpose().dot(Y * counts).sum(axis=1).reshape((D,1))\n",
    "    dW += reg * w\n",
    "    return dW"
   ]
  },
  {
   "cell_type": "code",
   "execution_count": 25,
   "metadata": {},
   "outputs": [],
   "source": [
    "def predict(w,X,threshold=0.5):\n",
    "    raw = X.dot(w)\n",
    "    raw[raw<=threshold] = -1\n",
    "    raw[raw>threshold] = 1\n",
    "    return raw"
   ]
  },
  {
   "cell_type": "code",
   "execution_count": 26,
   "metadata": {},
   "outputs": [],
   "source": [
    "def accuracy(w,X,Y,threshold=0.5):\n",
    "    num_records,num_features  = np.shape(X)  \n",
    "    P = predict(w,X,threshold)\n",
    "    \n",
    "    is_right = P * Y\n",
    "    is_right[is_right < 0] = 0\n",
    "    \n",
    "    return 1.0/num_records * np.count_nonzero(is_right)"
   ]
  },
  {
   "cell_type": "code",
   "execution_count": 27,
   "metadata": {},
   "outputs": [
    {
     "name": "stdout",
     "output_type": "stream",
     "text": [
      "avg_train_loss:0.522114676852641,avg_val_loss:0.5618017028780596\n",
      "min train loss:0.33386760749395455,min val loss:0.37745552469952004\n"
     ]
    },
    {
     "data": {
      "image/png": "[encoded data removed]",
      "text/plain": [
       "<matplotlib.figure.Figure at 0x7fbe17e8a0f0>"
      ]
     },
     "metadata": {},
     "output_type": "display_data"
    }
   ],
   "source": [
    "\n",
    "reg = 0.1\n",
    "lr = 0.2\n",
    "C = 1.0\n",
    "threshold=0.5\n",
    "max_iterate = 100\n",
    "train_loss_hist = []\n",
    "val_loss_hist = []\n",
    "accuracy_train = []\n",
    "accuracy_test = []\n",
    "N,D = X_train.shape\n",
    "w = np.random.normal(size=(D,1))\n",
    "for epoch in range(max_iterate):\n",
    "    train_loss_hist.append(forward(w,X_train,y_train,reg,C))\n",
    "    val_loss_hist.append(forward(w,X_val,y_val,reg,C))\n",
    "    accuracy_train.append(accuracy(w,X_train,y_train,threshold))\n",
    "    accuracy_test.append(accuracy(w,X_val,y_val,threshold))\n",
    "    w = w - lr * backward(w,X_train,y_train,reg,C)\n",
    "    \n",
    "print('avg_train_loss:{},avg_val_loss:{}'.format(np.mean(train_loss_hist),np.mean(val_loss_hist)))\n",
    "print('min train loss:{},min val loss:{}'.format(train_loss_hist[-1],val_loss_hist[-1]))\n",
    "\n",
    "fig, ax = plt.subplots()\n",
    "ax_e = ax.twinx()\n",
    "train_loss_line = ax.plot(range(max_iterate),train_loss_hist,label='train loss')\n",
    "test_loss_line = ax.plot(range(max_iterate),val_loss_hist,label='test loss')\n",
    "train_accuracy_line = ax_e.plot(range(max_iterate),accuracy_train,'r',label='train accuracy')\n",
    "test_accuracy_line = ax_e.plot(range(max_iterate),accuracy_test,'g',label='test accuracy')\n",
    "\n",
    "ax.set(xlabel='iteration', ylabel='loss')\n",
    "ax_e.set_ylabel('accuracy')\n",
    "\n",
    "ax.legend(loc=4)\n",
    "ax_e.legend(loc=1)\n",
    "plt.show()\n"
   ]
  },
  {
   "cell_type": "code",
   "execution_count": null,
   "metadata": {},
   "outputs": [],
   "source": []
  }
 ],
 "metadata": {
  "kernelspec": {
   "display_name": "Python 3",
   "language": "python",
   "name": "python3"
  },
  "language_info": {
   "codemirror_mode": {
    "name": "ipython",
    "version": 3
   },
   "file_extension": ".py",
   "mimetype": "text/x-python",
   "name": "python",
   "nbconvert_exporter": "python",
   "pygments_lexer": "ipython3",
   "version": "3.6.3"
  }
 },
 "nbformat": 4,
 "nbformat_minor": 2
}
