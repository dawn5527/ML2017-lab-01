{
 "cells": [
  {
   "cell_type": "code",
   "execution_count": 22,
   "metadata": {},
   "outputs": [],
   "source": [
    "from sklearn.externals.joblib import Memory\n",
    "from sklearn.datasets import load_svmlight_file\n",
    "import numpy as np\n",
    "from sklearn.model_selection import train_test_split\n",
    "from sklearn import linear_model\n",
    "import matplotlib.pyplot as plt\n",
    "%matplotlib inline"
   ]
  },
  {
   "cell_type": "code",
   "execution_count": 23,
   "metadata": {},
   "outputs": [
    {
     "name": "stdout",
     "output_type": "stream",
     "text": [
      "506 13\n",
      "<class 'scipy.sparse.csr.csr_matrix'>\n"
     ]
    }
   ],
   "source": [
    "# 加载数据\n",
    "mem = Memory(\"./mycache\")\n",
    "@mem.cache\n",
    "def get_data():\n",
    "    data = load_svmlight_file(\"./data/housing_scale\")\n",
    "    return data[0],data[1]\n",
    "\n",
    "X,y = get_data()\n",
    "N,D = X.shape\n",
    "print(N,D)\n",
    "print(type(X))"
   ]
  },
  {
   "cell_type": "code",
   "execution_count": 24,
   "metadata": {},
   "outputs": [
    {
     "name": "stdout",
     "output_type": "stream",
     "text": [
      "[-0.946897 -1.        0.40176  -1.        1.       -0.476911  0.911432\n",
      " -0.939765 -0.652174 -0.175573 -0.553191  0.973826  0.534216]\n"
     ]
    }
   ],
   "source": [
    "# 分割训练集和验证集\n",
    "X_train,X_val,y_train,y_val = train_test_split(X,y,test_size=0.4)\n",
    "X_train = X_train.toarray()\n",
    "X_val = X_val.toarray()\n",
    "y_train = y_train.reshape(-1,1)\n",
    "y_val = y_val.reshape(-1,1)\n",
    "print(X_train[0])"
   ]
  },
  {
   "cell_type": "code",
   "execution_count": 25,
   "metadata": {},
   "outputs": [],
   "source": [
    "def forward(X,y=None,w=None,reg=None):\n",
    "    N,d = X.shape\n",
    "    res = {}\n",
    "    score = X.dot(w.T)\n",
    "    res['score'] = score\n",
    "    if y is not None:\n",
    "#         损失函数\n",
    "        loss = (score - y)**2\n",
    "#         正则化项\n",
    "        reg_loss = 0.5 * reg * (np.sum(w**2))\n",
    "        loss += reg_loss \n",
    "        dloss = loss\n",
    "        res['loss'] = 1.0/N * np.sum(loss)\n",
    "        res['dloss'] = dloss\n",
    "        res['cache'] = score - y\n",
    "    return res"
   ]
  },
  {
   "cell_type": "code",
   "execution_count": 26,
   "metadata": {},
   "outputs": [],
   "source": [
    "def backward(X,w,dloss,cache,reg,lr):\n",
    "    N,d = X.shape\n",
    "#     dscore\n",
    "    dscore = dloss * 2 * cache\n",
    "#     dw\n",
    "    dw = np.dot(dscore.T,X)\n",
    "    dw *= 1.0/N\n",
    "    dw += reg * w\n",
    "#     更新梯度\n",
    "    w += -lr * dw\n",
    "    return {'w':w}"
   ]
  },
  {
   "cell_type": "code",
   "execution_count": 27,
   "metadata": {},
   "outputs": [
    {
     "name": "stdout",
     "output_type": "stream",
     "text": [
      "****************************************************************************************************\n",
      "min train loss:55.50353308622947,min val loss:55.50353308622947,lr:0.0001,reg:0.001\n"
     ]
    },
    {
     "name": "stderr",
     "output_type": "stream",
     "text": [
      "/usr/local/lib/python3.6/site-packages/ipykernel_launcher.py:8: RuntimeWarning: overflow encountered in square\n",
      "  \n",
      "/usr/local/lib/python3.6/site-packages/ipykernel_launcher.py:10: RuntimeWarning: overflow encountered in square\n",
      "  # Remove the CWD from sys.path while we load stuff.\n",
      "/usr/local/lib/python3.6/site-packages/ipykernel_launcher.py:4: RuntimeWarning: overflow encountered in multiply\n",
      "  after removing the cwd from sys.path.\n",
      "/usr/local/lib/python3.6/site-packages/ipykernel_launcher.py:11: RuntimeWarning: overflow encountered in add\n",
      "  # This is added back by InteractiveShellApp.init_path()\n"
     ]
    }
   ],
   "source": [
    "# 正则参数和学习率\n",
    "reg_list = np.logspace(-4,1,num=6,base=10)\n",
    "#reg_list = [0]\n",
    "lr_list = np.logspace(-4,1,num=6,base=10)\n",
    "#lr_list = [1e-2]\n",
    "\n",
    "     \n",
    "min_loss = 1000\n",
    "best_reg = None\n",
    "best_lr = None\n",
    "best_w = None\n",
    "best_train_loss_hist = None\n",
    "best_val_loss_hist = None\n",
    "best_train_socre_hist = None\n",
    "best_val_score_hist = None\n",
    "# 尝试不同的正则参数和学习率\n",
    "for reg in reg_list:\n",
    "    for lr in lr_list:\n",
    "        train_loss_hist = []\n",
    "        val_loss_hist = []\n",
    "        train_score_hist = []\n",
    "        val_score_hist = []\n",
    "\n",
    "        N,D = X_train.shape\n",
    "        w = np.random.normal(size=(D,1)).reshape(1,-1)\n",
    "        \n",
    "        for i in range(50):\n",
    "            fw_res = forward(X_train,y_train,w,reg)\n",
    "\n",
    "            train_loss_hist.append(fw_res['loss'])\n",
    "            train_score_hist.append(fw_res['score'])\n",
    "            \n",
    "            val_res = forward(X_val,y_val,w,reg=reg)\n",
    "            val_loss_hist.append(val_res['loss'])\n",
    "            val_score_hist.append(val_res['score'])\n",
    "            bw_res = backward(X_train,w,fw_res['dloss'],fw_res['cache'],reg=reg,lr=lr)\n",
    "            \n",
    "        cur_loss = val_loss_hist[-1]\n",
    "        #print('-'*100)\n",
    "        #print('loss:{},lr:{},reg:{}'.format(cur_loss,lr,reg))\n",
    "        if cur_loss is not None and cur_loss < min_loss:\n",
    "            min_loss = cur_loss\n",
    "            best_lr = lr\n",
    "            best_reg = reg\n",
    "            best_w = w\n",
    "            best_train_loss_hist = train_loss_hist\n",
    "            best_val_loss_hist = val_loss_hist\n",
    "            best_train_score_hist = train_score_hist[-1]\n",
    "            best_val_score_hist = val_score_hist[-1]\n",
    "            \n",
    "print('*'*100)\n",
    "print('min train loss:{},min val loss:{},lr:{},reg:{}'.format(min_loss,best_val_loss_hist[-1],best_lr,best_reg))"
   ]
  },
  {
   "cell_type": "code",
   "execution_count": 28,
   "metadata": {},
   "outputs": [
    {
     "name": "stdout",
     "output_type": "stream",
     "text": [
      "best w:[[-8.12974494 -3.76347452 -2.93786834 -0.86798799 -2.24660493  4.95682317\n",
      "   2.52556191 -3.70516582 -1.08971511 -0.64207636 -1.69674618  7.73431467\n",
      "  -7.20338364]] \n",
      "best_lr:0.0001 \n",
      "best_reg:0.001\n",
      "avg_train_loss:73.49406089058121,avg_val_loss:73.55045788432349\n"
     ]
    },
    {
     "data": {
      "text/plain": [
       "Text(0.5,1,'loss')"
      ]
     },
     "execution_count": 28,
     "metadata": {},
     "output_type": "execute_result"
    },
    {
     "data": {
      "image/png": "[encoded data removed]",
      "text/plain": [
       "<matplotlib.figure.Figure at 0x7efbe58b3a90>"
      ]
     },
     "metadata": {},
     "output_type": "display_data"
    }
   ],
   "source": [
    "print('best w:{} \\nbest_lr:{} \\nbest_reg:{}'.format(best_w,best_lr,best_reg))\n",
    "print('avg_train_loss:{},avg_val_loss:{}'.format(np.mean(best_train_loss_hist),np.mean(best_val_loss_hist)))\n",
    "\n",
    "# plt.rcParams['figure.figsize'] = (10.0, 20.0)\n",
    "\n",
    "# plt.subplot(3,1,1)\n",
    "plt.plot(best_train_loss_hist[:])\n",
    "plt.plot(best_val_loss_hist[:])\n",
    "plt.xlabel('iteration')  \n",
    "plt.ylabel('loss')  \n",
    "plt.legend(['train','val'],loc='right')\n",
    "plt.title('loss')\n",
    "\n",
    "# plt.subplot(3,1,2)\n",
    "# plt.plot(best_train_score_hist)\n",
    "# plt.plot(y_train)\n",
    "# plt.legend(['pred','y'],loc='right')\n",
    "# plt.title('train_score vs y_train')\n",
    "\n",
    "# plt.subplot(3,1,3)\n",
    "# plt.plot(best_val_score_hist)\n",
    "# plt.plot(y_val)\n",
    "# plt.legend(['pred','y'],loc='right')\n",
    "# plt.title('val_score vs y_val')"
   ]
  }
 ],
 "metadata": {
  "kernelspec": {
   "display_name": "Python 3",
   "language": "python",
   "name": "python3"
  },
  "language_info": {
   "codemirror_mode": {
    "name": "ipython",
    "version": 3
   },
   "file_extension": ".py",
   "mimetype": "text/x-python",
   "name": "python",
   "nbconvert_exporter": "python",
   "pygments_lexer": "ipython3",
   "version": "3.6.3"
  }
 },
 "nbformat": 4,
 "nbformat_minor": 2
}
